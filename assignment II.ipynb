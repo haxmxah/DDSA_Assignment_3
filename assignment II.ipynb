{
 "cells": [
  {
   "cell_type": "markdown",
   "metadata": {
    "id": "hyFIAbY3ZOga"
   },
   "source": [
    "Marta Xiulan Aribó Herrera and German Anashkin\n",
    "\n",
    "Data Driven Social Analytics - Assignment II\n",
    "\n",
    "MIIS 2025\n",
    "\n",
    "---\n",
    "\n"
   ]
  },
  {
   "cell_type": "markdown",
   "metadata": {
    "id": "tgnto3FxZi5H"
   },
   "source": [
    "# Installs and Libraries"
   ]
  },
  {
   "cell_type": "code",
   "execution_count": 1,
   "metadata": {
    "id": "fGaifxDyZsZs"
   },
   "outputs": [],
   "source": [
    "import pandas as pd\n",
    "import snap\n",
    "import numpy as np\n",
    "import matplotlib.pyplot as plt \n",
    "import matplotlib.dates as mdates\n",
    "\n",
    "import datetime\n",
    "import os\n",
    "import seaborn as sns\n",
    "from tqdm import tqdm\n",
    "import networkx as nx"
   ]
  },
  {
   "cell_type": "code",
   "execution_count": 2,
   "metadata": {},
   "outputs": [],
   "source": [
    "sns.set_context(\"paper\")"
   ]
  },
  {
   "cell_type": "markdown",
   "metadata": {
    "id": "8KMQ2AVWZmul"
   },
   "source": [
    "# Download Data (Do not run)"
   ]
  },
  {
   "cell_type": "code",
   "execution_count": 55,
   "metadata": {
    "colab": {
     "base_uri": "https://localhost:8080/"
    },
    "executionInfo": {
     "elapsed": 5829,
     "status": "ok",
     "timestamp": 1737648714638,
     "user": {
      "displayName": "MARTA XIULAN ARIBÓ HERRERA",
      "userId": "05540849092916497968"
     },
     "user_tz": -60
    },
    "id": "TDeJF18K4HXC",
    "outputId": "0498a94c-1c30-47b9-8309-4474135355ee"
   },
   "outputs": [
    {
     "name": "stdout",
     "output_type": "stream",
     "text": [
      "--2025-01-29 21:45:36--  http://www.sociopatterns.org/files/datasets/004/sg_infectious_contact_list.tgz\n",
      "S'està resolent www.sociopatterns.org (www.sociopatterns.org)… 95.174.14.229, 2001:4b78:2100::151:1\n",
      "S'està connectant a www.sociopatterns.org (www.sociopatterns.org)|95.174.14.229|:80… conectat.\n",
      "HTTP: s'ha enviat la petició, s'està esperant una resposta… 200 OK\n",
      "Mida: 1425682 (1,4M) [application/x-gzip]\n",
      "S'està desant a: ‘sg_infectious_contact_list.tgz’\n",
      "\n",
      "sg_infectious_conta 100%[===================>]   1,36M   302KB/s    in 6,2s    \n",
      "\n",
      "2025-01-29 21:45:43 (223 KB/s) - s'ha desat ‘sg_infectious_contact_list.tgz’ [1425682/1425682]\n",
      "\n"
     ]
    }
   ],
   "source": [
    "!wget http://www.sociopatterns.org/files/datasets/004/sg_infectious_contact_list.tgz"
   ]
  },
  {
   "cell_type": "code",
   "execution_count": null,
   "metadata": {
    "colab": {
     "base_uri": "https://localhost:8080/"
    },
    "executionInfo": {
     "elapsed": 621,
     "status": "ok",
     "timestamp": 1737648816988,
     "user": {
      "displayName": "MARTA XIULAN ARIBÓ HERRERA",
      "userId": "05540849092916497968"
     },
     "user_tz": -60
    },
    "id": "zOnWCnxX70m8",
    "outputId": "ce91a6b5-fe12-4f29-c05f-71ede0367b88"
   },
   "outputs": [],
   "source": [
    "!mkdir -p ../sociopatterns\n",
    "!tar -xzf sg_infectious_contact_list.tgz -C ../sociopatterns\n",
    "!ls ../sociopatterns"
   ]
  },
  {
   "cell_type": "code",
   "execution_count": 80,
   "metadata": {
    "id": "J48dg6cP8VpD"
   },
   "outputs": [],
   "source": [
    "\n",
    "dataset = pd.DataFrame()\n",
    "read_path = \"../sociopatterns/\"\n",
    "save_path = \"../data/\"\n",
    "for file in os.listdir(read_path):\n",
    "  file = read_path + file\n",
    "  df = pd.read_csv(file, delimiter='\\t')\n",
    "  df.columns = ['contact_time', 'user_1', 'user_2']\n",
    "  dataset = pd.concat([dataset, df])\n",
    "\n",
    "dataset.to_csv(save_path+\"infectious_data.csv\", index=False)"
   ]
  },
  {
   "cell_type": "markdown",
   "metadata": {},
   "source": [
    "# Load Dataset"
   ]
  },
  {
   "cell_type": "code",
   "execution_count": 24,
   "metadata": {},
   "outputs": [],
   "source": [
    "path = \"../data/infectious_data.csv\"\n",
    "df = pd.read_csv(path)\n",
    "\n",
    "df['contact_time'] = df['contact_time'].apply(lambda x: datetime.datetime.fromtimestamp(x))\n"
   ]
  },
  {
   "cell_type": "markdown",
   "metadata": {
    "id": "1zpYQ-C6Zo_P"
   },
   "source": [
    "# 1. Dataset Analysis"
   ]
  },
  {
   "cell_type": "markdown",
   "metadata": {},
   "source": [
    "## a. General Characteristics of the Dataset\n",
    "\n",
    "[DATASET LINK:  Infectious SocioPatterns dynamic contact networks ](href=\"http://www.sociopatterns.org/datasets/infectious-sociopatterns-dynamic-contact-networks/\")\n",
    "\n",
    "This dataset records face-to-face interactions between individuals overt time. It is structure into three columns: *user_1*, *user_2* and *contact_time*. Each row represents a recorded contact event between two individuals at a specific time. These names have been labeled by us for better understanding.\n",
    "\n",
    "* *user_1* and *user_2* : Unique and anonymous identifiers assigned to individuals involved in a contact event.\n",
    "* *contact_time* :  A timestamp representing the time interval [t-20s, t] during which the two individuals were in contact. The time is expressed in UNIX ctime format.\n",
    "\n",
    "The dataset have shape of 415843 x 3"
   ]
  },
  {
   "cell_type": "code",
   "execution_count": 25,
   "metadata": {
    "colab": {
     "base_uri": "https://localhost:8080/",
     "height": 206
    },
    "executionInfo": {
     "elapsed": 309,
     "status": "ok",
     "timestamp": 1738176915547,
     "user": {
      "displayName": "MARTA XIULAN ARIBÓ HERRERA",
      "userId": "05540849092916497968"
     },
     "user_tz": -60
    },
    "id": "-FtVvmGSZhXH",
    "outputId": "be84d315-e627-4250-8351-a544b45c4c55"
   },
   "outputs": [
    {
     "data": {
      "text/html": [
       "<div>\n",
       "<style scoped>\n",
       "    .dataframe tbody tr th:only-of-type {\n",
       "        vertical-align: middle;\n",
       "    }\n",
       "\n",
       "    .dataframe tbody tr th {\n",
       "        vertical-align: top;\n",
       "    }\n",
       "\n",
       "    .dataframe thead th {\n",
       "        text-align: right;\n",
       "    }\n",
       "</style>\n",
       "<table border=\"1\" class=\"dataframe\">\n",
       "  <thead>\n",
       "    <tr style=\"text-align: right;\">\n",
       "      <th></th>\n",
       "      <th>contact_time</th>\n",
       "      <th>user_1</th>\n",
       "      <th>user_2</th>\n",
       "    </tr>\n",
       "  </thead>\n",
       "  <tbody>\n",
       "    <tr>\n",
       "      <th>0</th>\n",
       "      <td>2009-06-04 12:19:19</td>\n",
       "      <td>90505314</td>\n",
       "      <td>78184522</td>\n",
       "    </tr>\n",
       "    <tr>\n",
       "      <th>1</th>\n",
       "      <td>2009-06-04 12:19:19</td>\n",
       "      <td>90505314</td>\n",
       "      <td>78446676</td>\n",
       "    </tr>\n",
       "    <tr>\n",
       "      <th>2</th>\n",
       "      <td>2009-06-04 12:19:19</td>\n",
       "      <td>90505314</td>\n",
       "      <td>78577729</td>\n",
       "    </tr>\n",
       "    <tr>\n",
       "      <th>3</th>\n",
       "      <td>2009-06-04 12:19:19</td>\n",
       "      <td>78184522</td>\n",
       "      <td>75104339</td>\n",
       "    </tr>\n",
       "    <tr>\n",
       "      <th>4</th>\n",
       "      <td>2009-06-04 12:19:19</td>\n",
       "      <td>78446676</td>\n",
       "      <td>74973244</td>\n",
       "    </tr>\n",
       "  </tbody>\n",
       "</table>\n",
       "</div>"
      ],
      "text/plain": [
       "         contact_time    user_1    user_2\n",
       "0 2009-06-04 12:19:19  90505314  78184522\n",
       "1 2009-06-04 12:19:19  90505314  78446676\n",
       "2 2009-06-04 12:19:19  90505314  78577729\n",
       "3 2009-06-04 12:19:19  78184522  75104339\n",
       "4 2009-06-04 12:19:19  78446676  74973244"
      ]
     },
     "execution_count": 25,
     "metadata": {},
     "output_type": "execute_result"
    }
   ],
   "source": [
    "df.head()"
   ]
  },
  {
   "cell_type": "code",
   "execution_count": 50,
   "metadata": {},
   "outputs": [
    {
     "name": "stderr",
     "output_type": "stream",
     "text": [
      "100%|██████████| 415843/415843 [00:32<00:00, 12922.60it/s]"
     ]
    },
    {
     "name": "stdout",
     "output_type": "stream",
     "text": [
      "Graph:\n",
      "  Nodes:                    10972\n",
      "  Edges:                    44516\n",
      "  Zero Deg Nodes:           0\n",
      "  Zero InDeg Nodes:         0\n",
      "  Zero OutDeg Nodes:        0\n",
      "  NonZero In-Out Deg Nodes: 10972\n"
     ]
    },
    {
     "name": "stderr",
     "output_type": "stream",
     "text": [
      "\n"
     ]
    }
   ],
   "source": [
    "G = snap.TUNGraph.New()\n",
    "\n",
    "for idx, row in tqdm(df.iterrows(), total=len(df)):\n",
    "    if not G.IsNode(row['user_1']):\n",
    "        G.AddNode(row['user_1'])\n",
    "\n",
    "    if not G.IsNode(row['user_2']):\n",
    "        G.AddNode(row['user_2'])\n",
    "\n",
    "    G.AddEdge(row['user_1'], row['user_2'])\n",
    "\n",
    "G.PrintInfo()"
   ]
  },
  {
   "cell_type": "code",
   "execution_count": 6,
   "metadata": {},
   "outputs": [
    {
     "name": "stdout",
     "output_type": "stream",
     "text": [
      "   \n",
      "    ---------------------------------------------------\n",
      "    GENERAL CHARACTERISTICS OF THE DATASET\n",
      "    ---------------------------------------------------\n",
      "    Name                : Infectious\n",
      "    Nodes               : Visitor\n",
      "    Edges               : Face-to-Face Contacts\n",
      "    Type                : Undirected\n",
      "    Data Date           : 2009\n",
      "    ---------------------------------------------------\n",
      "    Number of nodes     : 10972\n",
      "    Number of edges     : 44516\n",
      "    Density             : 0.24647317818312517\n",
      "    Average Degree      : 0.0007396293140571141\n",
      "    Median Degree       : 0.0005468963631391851\n",
      "    Max Degree          : 0.005833561206817974\n",
      "    Min Degree          : 9.114939385653085e-05\n",
      "    ---------------------------------------------------\n",
      "    \n"
     ]
    }
   ],
   "source": [
    "def get_general_characteristics(G):\n",
    "    nodes_degree = [G.GetDegreeCentr(node.GetId()) for node in G.Nodes()]\n",
    "    string = f\"\"\"   \n",
    "    ---------------------------------------------------\n",
    "    GENERAL CHARACTERISTICS OF THE DATASET\n",
    "    ---------------------------------------------------\n",
    "    Name                : Infectious\n",
    "    Nodes               : Visitor\n",
    "    Edges               : Face-to-Face Contacts\n",
    "    Type                : Undirected\n",
    "    Data Date           : 2009\n",
    "    ---------------------------------------------------\n",
    "    Number of nodes     : {G.GetNodes()}\n",
    "    Number of edges     : {G.GetEdges()}\n",
    "    Density             : {G.GetNodes()/G.GetEdges()}\n",
    "    Average Degree      : {np.mean(nodes_degree)}\n",
    "    Median Degree       : {np.median(nodes_degree)}\n",
    "    Max Degree          : {np.max(nodes_degree)}\n",
    "    Min Degree          : {np.min(nodes_degree)}\n",
    "    ---------------------------------------------------\n",
    "    \"\"\"\n",
    "\n",
    "    return string\n",
    "\n",
    "res = get_general_characteristics(G)\n",
    "print(res)"
   ]
  },
  {
   "cell_type": "markdown",
   "metadata": {},
   "source": [
    "## b. Node Centrality\n",
    "Refers to the importance of a node given a graph, how central is the node related to the network. We are going to be measuring this metric using at least three different methods. [Snap doc.](href=\"https://snap.stanford.edu/snappy/doc/reference/centr.html\")"
   ]
  },
  {
   "cell_type": "markdown",
   "metadata": {},
   "source": [
    "### Degree Centrality ([GetDegreeCentr()](ref:https://snap.stanford.edu/snappy/doc/reference/GetDegreeCentr.html))\n",
    "A graph method for undirected graphs that returns degree centrality of a given node NId. Degree centrality of a node is defined as its degree/(N-1), where N is the number of nodes in the graph."
   ]
  },
  {
   "cell_type": "code",
   "execution_count": 7,
   "metadata": {},
   "outputs": [
    {
     "name": "stdout",
     "output_type": "stream",
     "text": [
      "   \n",
      "    ---------------------------------------------------\n",
      "    DEGREE CENTRALITY\n",
      "    ---------------------------------------------------\n",
      "    \n",
      "    Visitor (Node) 83558448 has degree centrality of 0.005833561206817974. It has 570 contacts.\n",
      "        \n",
      "    Visitor (Node) 90636462 has degree centrality of 0.004557469692826542. It has 267 contacts.\n",
      "        \n",
      "    Visitor (Node) 94961689 has degree centrality of 0.004375170905113481. It has 129 contacts.\n",
      "        \n",
      "    Visitor (Node) 81068077 has degree centrality of 0.00428402151125695. It has 123 contacts.\n",
      "        \n",
      "    Visitor (Node) 80150715 has degree centrality of 0.0041928721174004195. It has 415 contacts.\n",
      "        \n",
      "    ---------------------------------------------------\n",
      "    \n"
     ]
    }
   ],
   "source": [
    "def get_degree_centrality(G):\n",
    "    degree_centrality = {}\n",
    "    for node in G.Nodes():\n",
    "        degree_centrality[node.GetId()] = G.GetDegreeCentr(node.GetId())\n",
    "\n",
    "    sorted_degree_centrality = sorted(degree_centrality.items(), key=lambda x: x[1], reverse=True)\n",
    "    \n",
    "    string = f\"\"\"   \n",
    "    ---------------------------------------------------\n",
    "    DEGREE CENTRALITY\n",
    "    ---------------------------------------------------\n",
    "    \"\"\"\n",
    "\n",
    "    for idx, (node, centrality) in enumerate(sorted_degree_centrality[:5]):\n",
    "        count_contact_time = df[(df['user_1'] == node) | (df['user_2'] == node)]['contact_time'].count()\n",
    "        string += f\"\"\"\n",
    "    Visitor (Node) {node} has degree centrality of {centrality}. It has {count_contact_time} contacts.\n",
    "        \"\"\"        \n",
    "        # nx_graph = nx.Graph()\n",
    "        # nx_graph.add_node(node)\n",
    "\n",
    "        # NI = G.GetNI(node)\n",
    "\n",
    "        # for i in range(NI.GetDeg()):\n",
    "        #     neighbor = NI.GetNbrNId(i)\n",
    "        #     nx_graph.add_node(neighbor)\n",
    "        #     nx_graph.add_edge(node, neighbor)\n",
    "        \n",
    "        # plt.figure(figsize=(5, 5))\n",
    "        # nx.draw(nx_graph, with_labels=True, node_color='lightblue', edge_color='gray', node_size=1000, font_size=12)\n",
    "        # plt.title(f\"Visitor (Node) {node}\")\n",
    "    \n",
    "    string += f\"\"\"\n",
    "    ---------------------------------------------------\n",
    "    \"\"\"\n",
    "\n",
    "    return string\n",
    "\n",
    "res = get_degree_centrality(G)  \n",
    "print(res)\n"
   ]
  },
  {
   "cell_type": "markdown",
   "metadata": {},
   "source": [
    "### Closeness Centrality ([GetClosenessCentr()](ref:https://snap.stanford.edu/snappy/doc/reference/GetClosenessCentr.html))\n",
    "A graph method that returns closeness centrality of a given node NId. Closeness centrality is equal to 1/farness centrality."
   ]
  },
  {
   "cell_type": "code",
   "execution_count": 8,
   "metadata": {},
   "outputs": [
    {
     "name": "stdout",
     "output_type": "stream",
     "text": [
      "   \n",
      "    ---------------------------------------------------\n",
      "    CLOSENESS CENTRALITY\n",
      "    ---------------------------------------------------\n",
      "    \n",
      "    Visitor (Node) 77070363 has closeness centrality of 0.015495489587108066. It has 110 contacts.\n",
      "        \n",
      "    Visitor (Node) 90636462 has closeness centrality of 0.01496325981718777. It has 267 contacts.\n",
      "        \n",
      "    Visitor (Node) 73597118 has closeness centrality of 0.01411811273492068. It has 140 contacts.\n",
      "        \n",
      "    Visitor (Node) 89587733 has closeness centrality of 0.013975766960324784. It has 249 contacts.\n",
      "        \n",
      "    Visitor (Node) 102629386 has closeness centrality of 0.013761337322846876. It has 89 contacts.\n",
      "        \n",
      "    ---------------------------------------------------\n",
      "    \n"
     ]
    }
   ],
   "source": [
    "def get_closeness_centrality(G):\n",
    "    closeness_centrality = {}\n",
    "    for node in G.Nodes():\n",
    "        closeness_centrality[node.GetId()] = snap.GetClosenessCentr(G, node.GetId())\n",
    "\n",
    "    sorted_closeness_centrality = sorted(closeness_centrality.items(), key=lambda x: x[1], reverse=True)\n",
    "    \n",
    "    string = f\"\"\"   \n",
    "    ---------------------------------------------------\n",
    "    CLOSENESS CENTRALITY\n",
    "    ---------------------------------------------------\n",
    "    \"\"\"\n",
    "\n",
    "    for idx, (node, centrality) in enumerate(sorted_closeness_centrality[:5]):\n",
    "        count_contact_time = df[(df['user_1'] == node) | (df['user_2'] == node)]['contact_time'].count()\n",
    "        string += f\"\"\"\n",
    "    Visitor (Node) {node} has closeness centrality of {centrality}. It has {count_contact_time} contacts.\n",
    "        \"\"\"        \n",
    "    \n",
    "    string += f\"\"\"\n",
    "    ---------------------------------------------------\n",
    "    \"\"\"\n",
    "\n",
    "    return string\n",
    "\n",
    "res = get_closeness_centrality(G)\n",
    "print(res)"
   ]
  },
  {
   "cell_type": "markdown",
   "metadata": {},
   "source": [
    "### Farness Centrality ([GetFarnessCentr()](ref:https://snap.stanford.edu/snappy/doc/reference/GetFarnessCentr.html))\n",
    "A graph method that returns farness centrality of a given node NId. Farness centrality of a node is the average shortest path length to all other nodes that reside in the same connected component as the given node."
   ]
  },
  {
   "cell_type": "code",
   "execution_count": 9,
   "metadata": {},
   "outputs": [
    {
     "name": "stdout",
     "output_type": "stream",
     "text": [
      "   \n",
      "    ---------------------------------------------------\n",
      "    FARNESS CENTRALITY\n",
      "    ---------------------------------------------------\n",
      "    \n",
      "    Visitor (Node) 101843033 has farness centrality of 10971.0. It has 66 contacts.\n",
      "        \n",
      "    Visitor (Node) 98304080 has farness centrality of 10971.0. It has 66 contacts.\n",
      "        \n",
      "    Visitor (Node) 78577731 has farness centrality of 10971.0. It has 32 contacts.\n",
      "        \n",
      "    Visitor (Node) 96403528 has farness centrality of 10971.0. It has 32 contacts.\n",
      "        \n",
      "    Visitor (Node) 78118988 has farness centrality of 10971.0. It has 27 contacts.\n",
      "        \n",
      "    ---------------------------------------------------\n",
      "    \n"
     ]
    }
   ],
   "source": [
    "def get_farness_centrality(G):\n",
    "    farness_centrality = {}\n",
    "    for node in G.Nodes():\n",
    "        farness_centrality[node.GetId()] = snap.GetFarnessCentr(G, node.GetId())\n",
    "\n",
    "    sorted_farness_centrality = sorted(farness_centrality.items(), key=lambda x: x[1], reverse=True)\n",
    "    \n",
    "    string = f\"\"\"   \n",
    "    ---------------------------------------------------\n",
    "    FARNESS CENTRALITY\n",
    "    ---------------------------------------------------\n",
    "    \"\"\"\n",
    "\n",
    "    for idx, (node, centrality) in enumerate(sorted_farness_centrality[:5]):\n",
    "        count_contact_time = df[(df['user_1'] == node) | (df['user_2'] == node)]['contact_time'].count()\n",
    "        string += f\"\"\"\n",
    "    Visitor (Node) {node} has farness centrality of {centrality}. It has {count_contact_time} contacts.\n",
    "        \"\"\"        \n",
    "    \n",
    "    string += f\"\"\"\n",
    "    ---------------------------------------------------\n",
    "    \"\"\"\n",
    "\n",
    "    return string\n",
    "\n",
    "res = get_farness_centrality(G)\n",
    "print(res)"
   ]
  },
  {
   "cell_type": "markdown",
   "metadata": {},
   "source": [
    "### Eigenvector Centrality ([GetEigenVectorCentr()](ref:https://snap.stanford.edu/snappy/doc/reference/GetEigenVectorCentr.html))\n",
    "A graph method for undirected graphs that returns eigenvector centrality of all nodes. Eigenvector Centrality of a node N is defined recursively as the average of centrality values of N’s neighbors in the network."
   ]
  },
  {
   "cell_type": "code",
   "execution_count": 10,
   "metadata": {},
   "outputs": [
    {
     "name": "stdout",
     "output_type": "stream",
     "text": [
      "\n",
      "    ---------------------------------------------------\n",
      "    EIGENVECTOR CENTRALITY\n",
      "    ---------------------------------------------------\n",
      "    \n",
      "    Visitor (Node) 78905411 has degree centrality of 0.20754608168233502. It has 117 contacts.\n",
      "        \n",
      "    Visitor (Node) 73400401 has degree centrality of 0.2018681719733262. It has 154 contacts.\n",
      "        \n",
      "    Visitor (Node) 104529997 has degree centrality of 0.19811100520382696. It has 183 contacts.\n",
      "        \n",
      "    Visitor (Node) 78839891 has degree centrality of 0.19623933122293846. It has 119 contacts.\n",
      "        \n",
      "    Visitor (Node) 100991066 has degree centrality of 0.18710519098311235. It has 119 contacts.\n",
      "        \n",
      "    ---------------------------------------------------\n",
      "    \n"
     ]
    }
   ],
   "source": [
    "def get_eigenvector_centrality(G):\n",
    "    eigenvector_centrality = {}\n",
    "    NIdEigenH = G.GetEigenVectorCentr()\n",
    "\n",
    "    for node in NIdEigenH:\n",
    "        eigenvector_centrality[node] = NIdEigenH[node]\n",
    "\n",
    "    sorted_eigenvector_centrality = sorted(eigenvector_centrality.items(), key=lambda x: x[1], reverse=True)\n",
    "    string = f\"\"\"\n",
    "    ---------------------------------------------------\n",
    "    EIGENVECTOR CENTRALITY\n",
    "    ---------------------------------------------------\n",
    "    \"\"\"\n",
    "\n",
    "    for idx, (node, centrality) in enumerate(sorted_eigenvector_centrality[:5]):\n",
    "        count_contact_time = df[(df['user_1'] == node) | (df['user_2'] == node)]['contact_time'].count()\n",
    "        string += f\"\"\"\n",
    "    Visitor (Node) {node} has degree centrality of {centrality}. It has {count_contact_time} contacts.\n",
    "        \"\"\"\n",
    "\n",
    "    string += f\"\"\"\n",
    "    ---------------------------------------------------\n",
    "    \"\"\"\n",
    "    return string\n",
    "\n",
    "res = get_eigenvector_centrality(G)\n",
    "print(res)"
   ]
  },
  {
   "cell_type": "markdown",
   "metadata": {},
   "source": [
    "## c. Average path length, diameter, effective diameter"
   ]
  },
  {
   "cell_type": "code",
   "execution_count": 11,
   "metadata": {},
   "outputs": [
    {
     "name": "stdout",
     "output_type": "stream",
     "text": [
      "   \n",
      "    ---------------------------------------------------\n",
      "    Average Path Length : 4.645616641901932\n",
      "    Diameter            : 14\n",
      "    Effective Diameter  : (7.475757575757577, 7.475757575757577)\n",
      "    ---------------------------------------------------\n",
      "    \n"
     ]
    }
   ],
   "source": [
    "def get_path_length_diameter(G):\n",
    "    res = G.GetBfsEffDiamAll(10, False)\n",
    "    eff_diameter = (res[0], res[1])\n",
    "    diameter = res[2]\n",
    "    avg_shortest_path = res[3]\n",
    "\n",
    "    string = f\"\"\"   \n",
    "    ---------------------------------------------------\n",
    "    Average Path Length : {avg_shortest_path}\n",
    "    Diameter            : {diameter}\n",
    "    Effective Diameter  : {eff_diameter}\n",
    "    ---------------------------------------------------\n",
    "    \"\"\"\n",
    "\n",
    "    return string\n",
    "\n",
    "res = get_path_length_diameter(G)\n",
    "print(res)"
   ]
  },
  {
   "cell_type": "markdown",
   "metadata": {},
   "source": [
    "## d. The innermost k-shell\n",
    "\n",
    "Using the methods GetKCore, GetKCoreNodes and GetKCoreEdges (doc [here](href:https://snap.stanford.edu/snappy/doc/reference/kcore.html?highlight=core))"
   ]
  },
  {
   "cell_type": "code",
   "execution_count": 12,
   "metadata": {},
   "outputs": [
    {
     "name": "stdout",
     "output_type": "stream",
     "text": [
      "   \n",
      "    ---------------------------------------------------\n",
      "    Innermost k-shell : 18\n",
      "    Number of nodes   : 55\n",
      "    Number of edges   : 595\n",
      "    ---------------------------------------------------\n",
      "    \n"
     ]
    }
   ],
   "source": [
    "def get_innermos_k_shell(G):\n",
    "    max_k_val, order_k_nodes= G.GetKCoreNodes()\n",
    "    num_nodes_per_k = [(item.GetVal1(), item.GetVal2()) for item in order_k_nodes]\n",
    "\n",
    "    max_k_val, order_k_edges= G.GetKCoreEdges()\n",
    "    num_edges_per_k = [(item.GetVal1(), item.GetVal2()) for item in order_k_edges]\n",
    "\n",
    "    string = f\"\"\"   \n",
    "    ---------------------------------------------------\n",
    "    Innermost k-shell : {max_k_val-1}\n",
    "    Number of nodes   : {num_nodes_per_k[-1][1]}\n",
    "    Number of edges   : {num_edges_per_k[-1][1]}\n",
    "    ---------------------------------------------------\n",
    "    \"\"\"\n",
    "\n",
    "    return string\n",
    "\n",
    "res = get_innermos_k_shell(G)\n",
    "print(res)"
   ]
  },
  {
   "cell_type": "markdown",
   "metadata": {},
   "source": [
    "## e. The clustering coefficient [GetClustCf()](href:https://snap.stanford.edu/snappy/doc/reference/GetClustCf.html?highlight=clustering%20coefficient)\n",
    "A graph method that computes the average clustering coefficient as defined in Watts and Strogatz, Collective dynamics of ‘small-world’ networks.  Is a measure of the degree to which nodes in a graph tend to cluster together"
   ]
  },
  {
   "cell_type": "code",
   "execution_count": 13,
   "metadata": {},
   "outputs": [
    {
     "name": "stdout",
     "output_type": "stream",
     "text": [
      "\n",
      "    ---------------------------------------------------\n",
      "    Clustering Coefficient : 0.44667305638379806\n",
      "    ---------------------------------------------------\n",
      "    \n"
     ]
    }
   ],
   "source": [
    "def get_cluster_coeff(G):\n",
    "    cluster_coeff = snap.GetClustCf(G)\n",
    "    string = f\"\"\"\n",
    "    ---------------------------------------------------\n",
    "    Clustering Coefficient : {cluster_coeff}\n",
    "    ---------------------------------------------------\n",
    "    \"\"\"\n",
    "    return string\n",
    "\n",
    "res = get_cluster_coeff(G)\n",
    "print(res)"
   ]
  },
  {
   "cell_type": "markdown",
   "metadata": {},
   "source": [
    "# 2. Degree distribution"
   ]
  },
  {
   "cell_type": "markdown",
   "metadata": {},
   "source": [
    "First we calculate the degree distribution (number of interactions vs how many users have this amount of interactions), and then we perform a power-law fit using the library powerlaw. If we look at the empirical data, we see that it does not have a pure power-law distribition, but it has a peak at degree = 3. Therefore, we set in the parameter xmin which will set a threshold from which there is a power-law behavior. "
   ]
  },
  {
   "cell_type": "code",
   "execution_count": 52,
   "metadata": {},
   "outputs": [],
   "source": [
    "Gr = nx.Graph()\n",
    "\n",
    "for _, row in df.iterrows():\n",
    "    Gr.add_edge(row['user_1'], row['user_2'])\n",
    "\n",
    "\n",
    "degree_sequence = [Gr.degree(user) for user in Gr.nodes]"
   ]
  },
  {
   "cell_type": "code",
   "execution_count": 28,
   "metadata": {},
   "outputs": [
    {
     "data": {
      "image/png": "[encoded data removed]",
      "text/plain": [
       "<Figure size 800x600 with 1 Axes>"
      ]
     },
     "metadata": {},
     "output_type": "display_data"
    }
   ],
   "source": [
    "# Count frequency of each degree\n",
    "degree_count = {}\n",
    "for degree in degree_sequence:\n",
    "    if degree not in degree_count:\n",
    "        degree_count[degree] = 1\n",
    "    else:\n",
    "        degree_count[degree] += 1\n",
    "\n",
    "# Prepare data for plotting (degree vs frequency)\n",
    "degrees = list(degree_count.keys())\n",
    "frequencies = list(degree_count.values())\n",
    "\n",
    "# Plot the degree distribution as points\n",
    "plt.figure(figsize=(8, 6))\n",
    "plt.scatter(degrees, frequencies, color='b', alpha=0.7)\n",
    "plt.title('Degree Distribution of User Interactions')\n",
    "plt.xlabel('Degree (Number of Interactions)')\n",
    "plt.ylabel('Frequency')\n",
    "plt.show()"
   ]
  },
  {
   "cell_type": "code",
   "execution_count": 48,
   "metadata": {},
   "outputs": [
    {
     "data": {
      "image/png": "[encoded data removed]",
      "text/plain": [
       "<Figure size 800x600 with 1 Axes>"
      ]
     },
     "metadata": {},
     "output_type": "display_data"
    }
   ],
   "source": [
    "degree_count = {}\n",
    "for degree in degree_sequence:\n",
    "    if degree not in degree_count:\n",
    "        degree_count[degree] = 1\n",
    "    else:\n",
    "        degree_count[degree] += 1\n",
    "\n",
    "\n",
    "degrees = list(degree_count.keys())\n",
    "frequencies = list(degree_count.values())\n",
    "\n",
    "fit = powerlaw.Fit(degree_sequence, xmin=3)  \n",
    "\n",
    "alpha = fit.power_law.alpha\n",
    "xmin = fit.power_law.xmin\n",
    "\n",
    "\n",
    "xmin_int = int(np.floor(xmin))  \n",
    "x_range = range(xmin_int, max(degrees) + 1)\n",
    "\n",
    "\n",
    "y_range = [fit.power_law.pdf(x) * len(degree_sequence) for x in x_range]\n",
    "\n",
    "\n",
    "plt.figure(figsize=(8, 6))\n",
    "plt.scatter(degrees, frequencies, color='b', alpha=0.7, label='Empirical Data')\n",
    "\n",
    "plt.plot(x_range, y_range, color='r', label=f'Power Law Fit\\nα = {alpha:.2f}')\n",
    "\n",
    "plt.title('Degree Distribution of User Interactions with Power Law Fit')\n",
    "plt.xlabel('Degree (Number of Interactions)')\n",
    "plt.ylabel('Frequency')\n",
    "plt.legend()\n",
    "plt.grid(True)\n",
    "plt.show()"
   ]
  },
  {
   "cell_type": "markdown",
   "metadata": {},
   "source": [
    "# 3. Network Comparison"
   ]
  },
  {
   "cell_type": "markdown",
   "metadata": {},
   "source": [
    "## [Preferential Attachment Network](ref:https://snap.stanford.edu/snappy/doc/reference/GenGeoPrefAttach.html?highlight=pref)"
   ]
  },
  {
   "cell_type": "code",
   "execution_count": 53,
   "metadata": {},
   "outputs": [],
   "source": [
    "num_nodes = G.GetNodes()\n",
    "num_edges = G.GetEdges()\n",
    "\n",
    "random = snap.TRnd(42)"
   ]
  },
  {
   "cell_type": "code",
   "execution_count": 54,
   "metadata": {},
   "outputs": [
    {
     "name": "stdout",
     "output_type": "stream",
     "text": [
      "   \n",
      "    ---------------------------------------------------\n",
      "    GENERAL CHARACTERISTICS OF THE DATASET\n",
      "    ---------------------------------------------------\n",
      "    Name                : Infectious\n",
      "    Nodes               : Visitor\n",
      "    Edges               : Face-to-Face Contacts\n",
      "    Type                : Undirected\n",
      "    Data Date           : 2009\n",
      "    ---------------------------------------------------\n",
      "    Number of nodes     : 10972\n",
      "    Number of edges     : 5038819\n",
      "    Density             : 0.0021774943692162785\n",
      "    Average Degree      : 0.08371952198373515\n",
      "    Median Degree       : 0.08376629295415186\n",
      "    Max Degree          : 0.09060249749339166\n",
      "    Min Degree          : 0.07492480175006837\n",
      "    ---------------------------------------------------\n",
      "    \n",
      "   \n",
      "    ---------------------------------------------------\n",
      "    DEGREE CENTRALITY\n",
      "    ---------------------------------------------------\n",
      "    \n",
      "    Visitor (Node) 6608 has degree centrality of 0.09060249749339166. It has 0 contacts.\n",
      "        \n",
      "    Visitor (Node) 6678 has degree centrality of 0.09032904931182208. It has 0 contacts.\n",
      "        \n",
      "    Visitor (Node) 1821 has degree centrality of 0.09023789991796555. It has 0 contacts.\n",
      "        \n",
      "    Visitor (Node) 3950 has degree centrality of 0.09023789991796555. It has 0 contacts.\n",
      "        \n",
      "    Visitor (Node) 5620 has degree centrality of 0.09023789991796555. It has 0 contacts.\n",
      "        \n",
      "    ---------------------------------------------------\n",
      "    \n"
     ]
    },
    {
     "ename": "KeyboardInterrupt",
     "evalue": "",
     "output_type": "error",
     "traceback": [
      "\u001b[0;31m---------------------------------------------------------------------------\u001b[0m",
      "\u001b[0;31mKeyboardInterrupt\u001b[0m                         Traceback (most recent call last)",
      "\u001b[0;32m/var/folders/lk/2f544m5x6pvbr5ktm_xknjw40000gn/T/ipykernel_4945/1899867699.py\u001b[0m in \u001b[0;36m?\u001b[0;34m()\u001b[0m\n\u001b[0;32m----> 9\u001b[0;31m \u001b[0mG_pref_attach\u001b[0m \u001b[0;34m=\u001b[0m \u001b[0msnap\u001b[0m\u001b[0;34m.\u001b[0m\u001b[0mGenGeoPrefAttach\u001b[0m\u001b[0;34m(\u001b[0m\u001b[0mnum_nodes\u001b[0m\u001b[0;34m,\u001b[0m \u001b[0mnum_edges\u001b[0m\u001b[0;34m,\u001b[0m \u001b[0;36m0.25\u001b[0m\u001b[0;34m,\u001b[0m \u001b[0mrandom\u001b[0m\u001b[0;34m)\u001b[0m\u001b[0;34m\u001b[0m\u001b[0;34m\u001b[0m\u001b[0m\n\u001b[0m\u001b[1;32m     10\u001b[0m \u001b[0;34m\u001b[0m\u001b[0m\n\u001b[1;32m     11\u001b[0m \u001b[0mres_pref_attach\u001b[0m \u001b[0;34m=\u001b[0m \u001b[0mget_general_characteristics\u001b[0m\u001b[0;34m(\u001b[0m\u001b[0mG_pref_attach\u001b[0m\u001b[0;34m)\u001b[0m\u001b[0;34m\u001b[0m\u001b[0;34m\u001b[0m\u001b[0m\n\u001b[1;32m     12\u001b[0m \u001b[0mprint\u001b[0m\u001b[0;34m(\u001b[0m\u001b[0mres_pref_attach\u001b[0m\u001b[0;34m)\u001b[0m\u001b[0;34m\u001b[0m\u001b[0;34m\u001b[0m\u001b[0m\n",
      "\u001b[0;32m/var/folders/lk/2f544m5x6pvbr5ktm_xknjw40000gn/T/ipykernel_4945/2071867795.py\u001b[0m in \u001b[0;36m?\u001b[0;34m(G)\u001b[0m\n\u001b[1;32m      1\u001b[0m \u001b[0;32mdef\u001b[0m \u001b[0mget_closeness_centrality\u001b[0m\u001b[0;34m(\u001b[0m\u001b[0mG\u001b[0m\u001b[0;34m)\u001b[0m\u001b[0;34m:\u001b[0m\u001b[0;34m\u001b[0m\u001b[0;34m\u001b[0m\u001b[0m\n\u001b[1;32m      2\u001b[0m     \u001b[0mcloseness_centrality\u001b[0m \u001b[0;34m=\u001b[0m \u001b[0;34m{\u001b[0m\u001b[0;34m}\u001b[0m\u001b[0;34m\u001b[0m\u001b[0;34m\u001b[0m\u001b[0m\n\u001b[1;32m      3\u001b[0m     \u001b[0;32mfor\u001b[0m \u001b[0mnode\u001b[0m \u001b[0;32min\u001b[0m \u001b[0mG\u001b[0m\u001b[0;34m.\u001b[0m\u001b[0mNodes\u001b[0m\u001b[0;34m(\u001b[0m\u001b[0;34m)\u001b[0m\u001b[0;34m:\u001b[0m\u001b[0;34m\u001b[0m\u001b[0;34m\u001b[0m\u001b[0m\n\u001b[0;32m----> 4\u001b[0;31m         \u001b[0mcloseness_centrality\u001b[0m\u001b[0;34m[\u001b[0m\u001b[0mnode\u001b[0m\u001b[0;34m.\u001b[0m\u001b[0mGetId\u001b[0m\u001b[0;34m(\u001b[0m\u001b[0;34m)\u001b[0m\u001b[0;34m]\u001b[0m \u001b[0;34m=\u001b[0m \u001b[0msnap\u001b[0m\u001b[0;34m.\u001b[0m\u001b[0mGetClosenessCentr\u001b[0m\u001b[0;34m(\u001b[0m\u001b[0mG\u001b[0m\u001b[0;34m,\u001b[0m \u001b[0mnode\u001b[0m\u001b[0;34m.\u001b[0m\u001b[0mGetId\u001b[0m\u001b[0;34m(\u001b[0m\u001b[0;34m)\u001b[0m\u001b[0;34m)\u001b[0m\u001b[0;34m\u001b[0m\u001b[0;34m\u001b[0m\u001b[0m\n\u001b[0m\u001b[1;32m      5\u001b[0m \u001b[0;34m\u001b[0m\u001b[0m\n\u001b[1;32m      6\u001b[0m     \u001b[0msorted_closeness_centrality\u001b[0m \u001b[0;34m=\u001b[0m \u001b[0msorted\u001b[0m\u001b[0;34m(\u001b[0m\u001b[0mcloseness_centrality\u001b[0m\u001b[0;34m.\u001b[0m\u001b[0mitems\u001b[0m\u001b[0;34m(\u001b[0m\u001b[0;34m)\u001b[0m\u001b[0;34m,\u001b[0m \u001b[0mkey\u001b[0m\u001b[0;34m=\u001b[0m\u001b[0;32mlambda\u001b[0m \u001b[0mx\u001b[0m\u001b[0;34m:\u001b[0m \u001b[0mx\u001b[0m\u001b[0;34m[\u001b[0m\u001b[0;36m1\u001b[0m\u001b[0;34m]\u001b[0m\u001b[0;34m,\u001b[0m \u001b[0mreverse\u001b[0m\u001b[0;34m=\u001b[0m\u001b[0;32mTrue\u001b[0m\u001b[0;34m)\u001b[0m\u001b[0;34m\u001b[0m\u001b[0;34m\u001b[0m\u001b[0m\n\u001b[1;32m      7\u001b[0m \u001b[0;34m\u001b[0m\u001b[0m\n",
      "\u001b[0;32m~/Library/Python/3.9/lib/python/site-packages/snap/snap.py\u001b[0m in \u001b[0;36m?\u001b[0;34m(tspec, *args)\u001b[0m\n\u001b[1;32m  32620\u001b[0m \u001b[0;32mdef\u001b[0m \u001b[0mGetClosenessCentr\u001b[0m\u001b[0;34m(\u001b[0m\u001b[0mtspec\u001b[0m\u001b[0;34m,\u001b[0m \u001b[0;34m*\u001b[0m\u001b[0margs\u001b[0m\u001b[0;34m)\u001b[0m\u001b[0;34m:\u001b[0m\u001b[0;34m\u001b[0m\u001b[0;34m\u001b[0m\u001b[0m\n\u001b[0;32m> 32621\u001b[0;31m     \u001b[0;32mif\u001b[0m \u001b[0mtype\u001b[0m\u001b[0;34m(\u001b[0m\u001b[0mtspec\u001b[0m\u001b[0;34m)\u001b[0m \u001b[0;34m==\u001b[0m \u001b[0mPUNGraph\u001b[0m\u001b[0;34m:\u001b[0m \u001b[0;32mreturn\u001b[0m \u001b[0mGetClosenessCentr_PUNGraph\u001b[0m\u001b[0;34m(\u001b[0m\u001b[0mtspec\u001b[0m\u001b[0;34m,\u001b[0m \u001b[0;34m*\u001b[0m\u001b[0margs\u001b[0m\u001b[0;34m)\u001b[0m\u001b[0;34m\u001b[0m\u001b[0;34m\u001b[0m\u001b[0m\n\u001b[0m\u001b[1;32m  32622\u001b[0m     \u001b[0;32mif\u001b[0m \u001b[0mtype\u001b[0m\u001b[0;34m(\u001b[0m\u001b[0mtspec\u001b[0m\u001b[0;34m)\u001b[0m \u001b[0;34m==\u001b[0m \u001b[0mPUndirNet\u001b[0m\u001b[0;34m:\u001b[0m \u001b[0;32mreturn\u001b[0m \u001b[0mGetClosenessCentr_PUndirNet\u001b[0m\u001b[0;34m(\u001b[0m\u001b[0mtspec\u001b[0m\u001b[0;34m,\u001b[0m \u001b[0;34m*\u001b[0m\u001b[0margs\u001b[0m\u001b[0;34m)\u001b[0m\u001b[0;34m\u001b[0m\u001b[0;34m\u001b[0m\u001b[0m\n\u001b[1;32m  32623\u001b[0m     \u001b[0;32mif\u001b[0m \u001b[0mtype\u001b[0m\u001b[0;34m(\u001b[0m\u001b[0mtspec\u001b[0m\u001b[0;34m)\u001b[0m \u001b[0;34m==\u001b[0m \u001b[0mPDirNet\u001b[0m\u001b[0;34m:\u001b[0m \u001b[0;32mreturn\u001b[0m \u001b[0mGetClosenessCentr_PDirNet\u001b[0m\u001b[0;34m(\u001b[0m\u001b[0mtspec\u001b[0m\u001b[0;34m,\u001b[0m \u001b[0;34m*\u001b[0m\u001b[0margs\u001b[0m\u001b[0;34m)\u001b[0m\u001b[0;34m\u001b[0m\u001b[0;34m\u001b[0m\u001b[0m\n\u001b[1;32m  32624\u001b[0m     \u001b[0;32mif\u001b[0m \u001b[0mtype\u001b[0m\u001b[0;34m(\u001b[0m\u001b[0mtspec\u001b[0m\u001b[0;34m)\u001b[0m \u001b[0;34m==\u001b[0m \u001b[0mPNGraph\u001b[0m \u001b[0;34m:\u001b[0m \u001b[0;32mreturn\u001b[0m \u001b[0mGetClosenessCentr_PNGraph\u001b[0m\u001b[0;34m(\u001b[0m\u001b[0mtspec\u001b[0m\u001b[0;34m,\u001b[0m \u001b[0;34m*\u001b[0m\u001b[0margs\u001b[0m\u001b[0;34m)\u001b[0m\u001b[0;34m\u001b[0m\u001b[0;34m\u001b[0m\u001b[0m\n",
      "\u001b[0;31mKeyboardInterrupt\u001b[0m: "
     ]
    }
   ],
   "source": [
    "G_pref_attach = snap.GenGeoPrefAttach(num_nodes, num_edges, 0.25, random)\n",
    "\n",
    "res_pref_attach = get_general_characteristics(G_pref_attach)\n",
    "print(res_pref_attach)\n",
    "\n",
    "res_pref_attach = get_degree_centrality(G_pref_attach)\n",
    "print(res_pref_attach)\n",
    "\n",
    "res_pref_attach = get_closeness_centrality(G_pref_attach)\n",
    "print(res_pref_attach)\n",
    "\n",
    "res_pref_attach = get_farness_centrality(G_pref_attach)\n",
    "print(res_pref_attach)\n",
    "\n",
    "res_pref_attach = get_eigenvector_centrality(G_pref_attach)\n",
    "print(res_pref_attach)\n",
    "\n",
    "res_pref_attach = get_path_length_diameter(G_pref_attach)\n",
    "print(res_pref_attach)\n",
    "\n",
    "res_pref_attach = get_innermos_k_shell(G_pref_attach)\n",
    "print(res_pref_attach)\n",
    "\n",
    "res_pref_attach = get_cluster_coeff(G_pref_attach)\n",
    "print(res_pref_attach)\n"
   ]
  },
  {
   "cell_type": "code",
   "execution_count": 65,
   "metadata": {},
   "outputs": [],
   "source": [
    "G_pref_attach = snap.GenGeoPrefAttach(num_nodes, num_edges, 0.25, random)\n",
    "\n",
    "degree_sequence = []\n",
    "for NI in G_pref_attach.Nodes():\n",
    "    degree_sequence.append(NI.GetDeg())"
   ]
  },
  {
   "cell_type": "code",
   "execution_count": 66,
   "metadata": {},
   "outputs": [
    {
     "data": {
      "image/png": "[encoded data removed]",
      "text/plain": [
       "<Figure size 800x600 with 1 Axes>"
      ]
     },
     "metadata": {},
     "output_type": "display_data"
    }
   ],
   "source": [
    "# Count frequency of each degree\n",
    "degree_count = {}\n",
    "for degree in degree_sequence:\n",
    "    if degree not in degree_count:\n",
    "        degree_count[degree] = 1\n",
    "    else:\n",
    "        degree_count[degree] += 1\n",
    "\n",
    "# Prepare data for plotting (degree vs frequency)\n",
    "degrees = list(degree_count.keys())\n",
    "frequencies = list(degree_count.values())\n",
    "\n",
    "# Plot the degree distribution as points\n",
    "plt.figure(figsize=(8, 6))\n",
    "plt.scatter(degrees, frequencies, color='b', alpha=0.7)\n",
    "plt.title('Degree Distribution of User Interactions')\n",
    "plt.xlabel('Degree (Number of Interactions)')\n",
    "plt.ylabel('Frequency')\n",
    "plt.show()"
   ]
  },
  {
   "cell_type": "markdown",
   "metadata": {},
   "source": [
    "## [Configuration Model](ref:https://snap.stanford.edu/snappy/doc/reference/GenConfModel1.html?highlight=conf)"
   ]
  },
  {
   "cell_type": "code",
   "execution_count": 18,
   "metadata": {},
   "outputs": [
    {
     "name": "stdout",
     "output_type": "stream",
     "text": [
      " configuration model: iter 43659: edges: 43633, left: 85677\n",
      "   \n",
      "    ---------------------------------------------------\n",
      "    GENERAL CHARACTERISTICS OF THE DATASET\n",
      "    ---------------------------------------------------\n",
      "    Name                : Infectious\n",
      "    Nodes               : Visitor\n",
      "    Edges               : Face-to-Face Contacts\n",
      "    Type                : Undirected\n",
      "    Data Date           : 2009\n",
      "    ---------------------------------------------------\n",
      "    Number of nodes     : 10972\n",
      "    Number of edges     : 44466\n",
      "    Density             : 0.24675032609184547\n",
      "    Average Degree      : 0.0007387985685790193\n",
      "    Median Degree       : 0.0005468963631391851\n",
      "    Max Degree          : 0.005833561206817974\n",
      "    Min Degree          : 9.114939385653085e-05\n",
      "    ---------------------------------------------------\n",
      "    \n",
      "   \n",
      "    ---------------------------------------------------\n",
      "    DEGREE CENTRALITY\n",
      "    ---------------------------------------------------\n",
      "    \n",
      "    Visitor (Node) 5568 has degree centrality of 0.005833561206817974. It has 0 contacts.\n",
      "        \n",
      "    Visitor (Node) 4113 has degree centrality of 0.004557469692826542. It has 0 contacts.\n",
      "        \n",
      "    Visitor (Node) 354 has degree centrality of 0.004375170905113481. It has 0 contacts.\n",
      "        \n",
      "    Visitor (Node) 4334 has degree centrality of 0.00428402151125695. It has 0 contacts.\n",
      "        \n",
      "    Visitor (Node) 372 has degree centrality of 0.0041928721174004195. It has 0 contacts.\n",
      "        \n",
      "    ---------------------------------------------------\n",
      "    \n",
      "   \n",
      "    ---------------------------------------------------\n",
      "    DEGREE CENTRALITY\n",
      "    ---------------------------------------------------\n",
      "    \n",
      "    Visitor (Node) 5568 has degree centrality of 0.005833561206817974. It has 0 contacts.\n",
      "        \n",
      "    Visitor (Node) 4113 has degree centrality of 0.004557469692826542. It has 0 contacts.\n",
      "        \n",
      "    Visitor (Node) 354 has degree centrality of 0.004375170905113481. It has 0 contacts.\n",
      "        \n",
      "    Visitor (Node) 4334 has degree centrality of 0.00428402151125695. It has 0 contacts.\n",
      "        \n",
      "    Visitor (Node) 372 has degree centrality of 0.0041928721174004195. It has 0 contacts.\n",
      "        \n",
      "    ---------------------------------------------------\n",
      "    \n",
      "\n",
      "    ---------------------------------------------------\n",
      "    EIGENVECTOR CENTRALITY\n",
      "    ---------------------------------------------------\n",
      "    \n",
      "    Visitor (Node) 5568 has degree centrality of 0.06869666060857112. It has 0 contacts.\n",
      "        \n",
      "    Visitor (Node) 4113 has degree centrality of 0.053096145412407814. It has 0 contacts.\n",
      "        \n",
      "    Visitor (Node) 425 has degree centrality of 0.05013826187302986. It has 0 contacts.\n",
      "        \n",
      "    Visitor (Node) 10094 has degree centrality of 0.045798143536356986. It has 0 contacts.\n",
      "        \n",
      "    Visitor (Node) 5562 has degree centrality of 0.04515880251284239. It has 0 contacts.\n",
      "        \n",
      "    ---------------------------------------------------\n",
      "    \n",
      "   \n",
      "    ---------------------------------------------------\n",
      "    Average Path Length : 4.227466715301842\n",
      "    Diameter            : 9\n",
      "    Effective Diameter  : (4.838699302048824, 4.838699302048824)\n",
      "    ---------------------------------------------------\n",
      "    \n",
      "   \n",
      "    ---------------------------------------------------\n",
      "    Innermost k-shell : 6\n",
      "    Number of nodes   : 4531\n",
      "    Number of edges   : 23784\n",
      "    ---------------------------------------------------\n",
      "    \n",
      "\n",
      "    ---------------------------------------------------\n",
      "    Clustering Coefficient : 0.0016018736522079348\n",
      "    ---------------------------------------------------\n",
      "    \n"
     ]
    }
   ],
   "source": [
    "G_conf_model = snap.GenConfModel(G)\n",
    "\n",
    "res_conf_model = get_general_characteristics(G_conf_model)\n",
    "print(res_conf_model)\n",
    "\n",
    "res_conf_model = get_degree_centrality(G_conf_model)\n",
    "print(res_conf_model)\n",
    "\n",
    "res_conf_model = get_closeness_centrality(G_conf_model)\n",
    "print(res_conf_model)\n",
    "\n",
    "res_conf_model = get_farness_centrality(G_conf_model)\n",
    "print(res_conf_model)\n",
    "\n",
    "res_conf_model = get_eigenvector_centrality(G_conf_model)\n",
    "print(res_conf_model)\n",
    "\n",
    "res_conf_model = get_path_length_diameter(G_conf_model)\n",
    "print(res_conf_model)\n",
    "\n",
    "res_conf_model = get_innermos_k_shell(G_conf_model)\n",
    "print(res_conf_model)\n",
    "\n",
    "res_conf_model = get_cluster_coeff(G_conf_model)\n",
    "print(res_conf_model)\n"
   ]
  },
  {
   "cell_type": "code",
   "execution_count": 67,
   "metadata": {},
   "outputs": [
    {
     "name": "stdout",
     "output_type": "stream",
     "text": [
      " configuration model: iter 43659: edges: 43634, left: 85677\n"
     ]
    }
   ],
   "source": [
    "G_conf_model = snap.GenConfModel(G)\n",
    "\n",
    "degree_sequence = []\n",
    "for NI in G_conf_model.Nodes():\n",
    "    degree_sequence.append(NI.GetDeg())"
   ]
  },
  {
   "cell_type": "code",
   "execution_count": 68,
   "metadata": {},
   "outputs": [
    {
     "data": {
      "image/png": "[encoded data removed]",
      "text/plain": [
       "<Figure size 800x600 with 1 Axes>"
      ]
     },
     "metadata": {},
     "output_type": "display_data"
    }
   ],
   "source": [
    "# Count frequency of each degree\n",
    "degree_count = {}\n",
    "for degree in degree_sequence:\n",
    "    if degree not in degree_count:\n",
    "        degree_count[degree] = 1\n",
    "    else:\n",
    "        degree_count[degree] += 1\n",
    "\n",
    "# Prepare data for plotting (degree vs frequency)\n",
    "degrees = list(degree_count.keys())\n",
    "frequencies = list(degree_count.values())\n",
    "\n",
    "# Plot the degree distribution as points\n",
    "plt.figure(figsize=(8, 6))\n",
    "plt.scatter(degrees, frequencies, color='b', alpha=0.7)\n",
    "plt.title('Degree Distribution of User Interactions')\n",
    "plt.xlabel('Degree (Number of Interactions)')\n",
    "plt.ylabel('Frequency')\n",
    "plt.show()"
   ]
  },
  {
   "cell_type": "markdown",
   "metadata": {},
   "source": [
    "## [Node Rewiring Model](ref:)"
   ]
  },
  {
   "cell_type": "code",
   "execution_count": 19,
   "metadata": {},
   "outputs": [
    {
     "name": "stdout",
     "output_type": "stream",
     "text": [
      "Randomizing edges (10972, 44516)...\n",
      "  5653k/8903k: 2   skip [1.41s]\n",
      "    ---------------------------------------------------\n",
      "    GENERAL CHARACTERISTICS OF THE DATASET\n",
      "    ---------------------------------------------------\n",
      "    Name                : Infectious\n",
      "    Nodes               : Visitor\n",
      "    Edges               : Face-to-Face Contacts\n",
      "    Type                : Undirected\n",
      "    Data Date           : 2009\n",
      "    ---------------------------------------------------\n",
      "    Number of nodes     : 10972\n",
      "    Number of edges     : 44516\n",
      "    Density             : 0.24647317818312517\n",
      "    Average Degree      : 0.0007396293140571141\n",
      "    Median Degree       : 0.0005468963631391851\n",
      "    Max Degree          : 0.005833561206817974\n",
      "    Min Degree          : 9.114939385653085e-05\n",
      "    ---------------------------------------------------\n",
      "    \n",
      "  total 8903k switchings attempted, 37k skiped  [2.20s]\n",
      "   \n",
      "    ---------------------------------------------------\n",
      "    DEGREE CENTRALITY\n",
      "    ---------------------------------------------------\n",
      "    \n",
      "    Visitor (Node) 83558448 has degree centrality of 0.005833561206817974. It has 570 contacts.\n",
      "        \n",
      "    Visitor (Node) 90636462 has degree centrality of 0.004557469692826542. It has 267 contacts.\n",
      "        \n",
      "    Visitor (Node) 94961689 has degree centrality of 0.004375170905113481. It has 129 contacts.\n",
      "        \n",
      "    Visitor (Node) 81068077 has degree centrality of 0.00428402151125695. It has 123 contacts.\n",
      "        \n",
      "    Visitor (Node) 80150715 has degree centrality of 0.0041928721174004195. It has 415 contacts.\n",
      "        \n",
      "    ---------------------------------------------------\n",
      "    \n",
      "   \n",
      "    ---------------------------------------------------\n",
      "    DEGREE CENTRALITY\n",
      "    ---------------------------------------------------\n",
      "    \n",
      "    Visitor (Node) 83558448 has degree centrality of 0.005833561206817974. It has 570 contacts.\n",
      "        \n",
      "    Visitor (Node) 90636462 has degree centrality of 0.004557469692826542. It has 267 contacts.\n",
      "        \n",
      "    Visitor (Node) 94961689 has degree centrality of 0.004375170905113481. It has 129 contacts.\n",
      "        \n",
      "    Visitor (Node) 81068077 has degree centrality of 0.00428402151125695. It has 123 contacts.\n",
      "        \n",
      "    Visitor (Node) 80150715 has degree centrality of 0.0041928721174004195. It has 415 contacts.\n",
      "        \n",
      "    ---------------------------------------------------\n",
      "    \n",
      "\n",
      "    ---------------------------------------------------\n",
      "    EIGENVECTOR CENTRALITY\n",
      "    ---------------------------------------------------\n",
      "    \n",
      "    Visitor (Node) 83558448 has degree centrality of 0.07447762755855163. It has 570 contacts.\n",
      "        \n",
      "    Visitor (Node) 103350290 has degree centrality of 0.05387248573231018. It has 333 contacts.\n",
      "        \n",
      "    Visitor (Node) 90636462 has degree centrality of 0.053596505822290086. It has 267 contacts.\n",
      "        \n",
      "    Visitor (Node) 100270121 has degree centrality of 0.05250614961653789. It has 192 contacts.\n",
      "        \n",
      "    Visitor (Node) 94961689 has degree centrality of 0.0523501673171305. It has 129 contacts.\n",
      "        \n",
      "    ---------------------------------------------------\n",
      "    \n",
      "   \n",
      "    ---------------------------------------------------\n",
      "    Average Path Length : 4.393827498176513\n",
      "    Diameter            : 8\n",
      "    Effective Diameter  : (4.871258982989175, 4.871258982989175)\n",
      "    ---------------------------------------------------\n",
      "    \n",
      "   \n",
      "    ---------------------------------------------------\n",
      "    Innermost k-shell : 6\n",
      "    Number of nodes   : 4513\n",
      "    Number of edges   : 23657\n",
      "    ---------------------------------------------------\n",
      "    \n",
      "\n",
      "    ---------------------------------------------------\n",
      "    Clustering Coefficient : 0.0015680939383054936\n",
      "    ---------------------------------------------------\n",
      "    \n"
     ]
    }
   ],
   "source": [
    "G_rewired = snap.GenRewire(G, 100, random)\n",
    "\n",
    "res_rewired = get_general_characteristics(G_rewired)\n",
    "print(res_rewired)\n",
    "\n",
    "res_rewired = get_degree_centrality(G_rewired)\n",
    "print(res_rewired)\n",
    "\n",
    "res_rewired = get_closeness_centrality(G_rewired)\n",
    "print(res_rewired)\n",
    "\n",
    "res_rewired = get_farness_centrality(G_rewired)\n",
    "print(res_rewired)\n",
    "\n",
    "res_rewired = get_eigenvector_centrality(G_rewired)\n",
    "print(res_rewired)\n",
    "\n",
    "res_rewired = get_path_length_diameter(G_rewired)\n",
    "print(res_rewired)\n",
    "\n",
    "res_rewired = get_innermos_k_shell(G_rewired)\n",
    "print(res_rewired)\n",
    "\n",
    "res_rewired = get_cluster_coeff(G_rewired)\n",
    "print(res_rewired)\n"
   ]
  },
  {
   "cell_type": "code",
   "execution_count": 69,
   "metadata": {},
   "outputs": [
    {
     "name": "stdout",
     "output_type": "stream",
     "text": [
      "Randomizing edges (10972, 44516)...\n",
      "  total 8903k switchings attempted, 37k skiped  [3.29s]\n"
     ]
    }
   ],
   "source": [
    "G_rewired = snap.GenRewire(G, 100, random)\n",
    "\n",
    "degree_sequence = []\n",
    "for NI in G_rewired.Nodes():\n",
    "    degree_sequence.append(NI.GetDeg())"
   ]
  },
  {
   "cell_type": "code",
   "execution_count": 70,
   "metadata": {},
   "outputs": [
    {
     "data": {
      "image/png": "[encoded data removed]",
      "text/plain": [
       "<Figure size 800x600 with 1 Axes>"
      ]
     },
     "metadata": {},
     "output_type": "display_data"
    }
   ],
   "source": [
    "# Count frequency of each degree\n",
    "degree_count = {}\n",
    "for degree in degree_sequence:\n",
    "    if degree not in degree_count:\n",
    "        degree_count[degree] = 1\n",
    "    else:\n",
    "        degree_count[degree] += 1\n",
    "\n",
    "# Prepare data for plotting (degree vs frequency)\n",
    "degrees = list(degree_count.keys())\n",
    "frequencies = list(degree_count.values())\n",
    "\n",
    "# Plot the degree distribution as points\n",
    "plt.figure(figsize=(8, 6))\n",
    "plt.scatter(degrees, frequencies, color='b', alpha=0.7)\n",
    "plt.title('Degree Distribution of User Interactions')\n",
    "plt.xlabel('Degree (Number of Interactions)')\n",
    "plt.ylabel('Frequency')\n",
    "plt.show()"
   ]
  },
  {
   "cell_type": "markdown",
   "metadata": {},
   "source": [
    "## [Erdos-Reny random graph](href:https://snap.stanford.edu/snappy/doc/reference/GenRndGnm.html?highlight=erdos)"
   ]
  },
  {
   "cell_type": "code",
   "execution_count": 75,
   "metadata": {},
   "outputs": [
    {
     "name": "stdout",
     "output_type": "stream",
     "text": [
      "Randomizing edges (10972, 44516)...\n",
      "   413k/8903k: 35k skip [3.40s]\n",
      "    ---------------------------------------------------\n",
      "    GENERAL CHARACTERISTICS OF THE DATASET\n",
      "    ---------------------------------------------------\n",
      "    Name                : Infectious\n",
      "    Nodes               : Visitor\n",
      "    Edges               : Face-to-Face Contacts\n",
      "    Type                : Undirected\n",
      "    Data Date           : 2009\n",
      "    ---------------------------------------------------\n",
      "    Number of nodes     : 10972\n",
      "    Number of edges     : 44516\n",
      "    Density             : 0.24647317818312517\n",
      "    Average Degree      : 0.0007396293140571141\n",
      "    Median Degree       : 0.0005468963631391851\n",
      "    Max Degree          : 0.005833561206817974\n",
      "    Min Degree          : 9.114939385653085e-05\n",
      "    ---------------------------------------------------\n",
      "    \n",
      "  total 8903k switchings attempted, 37k skiped  [3.57s]\n",
      "   \n",
      "    ---------------------------------------------------\n",
      "    DEGREE CENTRALITY\n",
      "    ---------------------------------------------------\n",
      "    \n",
      "    Visitor (Node) 83558448 has degree centrality of 0.005833561206817974. It has 570 contacts.\n",
      "        \n",
      "    Visitor (Node) 90636462 has degree centrality of 0.004557469692826542. It has 267 contacts.\n",
      "        \n",
      "    Visitor (Node) 94961689 has degree centrality of 0.004375170905113481. It has 129 contacts.\n",
      "        \n",
      "    Visitor (Node) 81068077 has degree centrality of 0.00428402151125695. It has 123 contacts.\n",
      "        \n",
      "    Visitor (Node) 80150715 has degree centrality of 0.0041928721174004195. It has 415 contacts.\n",
      "        \n",
      "    ---------------------------------------------------\n",
      "    \n",
      "   \n",
      "    ---------------------------------------------------\n",
      "    CLOSENESS CENTRALITY\n",
      "    ---------------------------------------------------\n",
      "    \n",
      "    Visitor (Node) 83558448 has closeness centrality of 0.2916606232134812. It has 570 contacts.\n",
      "        \n",
      "    Visitor (Node) 90636462 has closeness centrality of 0.28650436956195036. It has 267 contacts.\n",
      "        \n",
      "    Visitor (Node) 77922457 has closeness centrality of 0.286361867388608. It has 294 contacts.\n",
      "        \n",
      "    Visitor (Node) 76218374 has closeness centrality of 0.28525668442278157. It has 176 contacts.\n",
      "        \n",
      "    Visitor (Node) 80150715 has closeness centrality of 0.2830058037990538. It has 415 contacts.\n",
      "        \n",
      "    ---------------------------------------------------\n",
      "    \n",
      "   \n",
      "    ---------------------------------------------------\n",
      "    FARNESS CENTRALITY\n",
      "    ---------------------------------------------------\n",
      "    \n",
      "    Visitor (Node) 102695081 has farness centrality of 10971.0. It has 3 contacts.\n",
      "        \n",
      "    Visitor (Node) 73400431 has farness centrality of 10971.0. It has 56 contacts.\n",
      "        \n",
      "    Visitor (Node) 104267813 has farness centrality of 10971.0. It has 56 contacts.\n",
      "        \n",
      "    Visitor (Node) 77463586 has farness centrality of 10971.0. It has 9 contacts.\n",
      "        \n",
      "    Visitor (Node) 95158304 has farness centrality of 10971.0. It has 57 contacts.\n",
      "        \n",
      "    ---------------------------------------------------\n",
      "    \n",
      "\n",
      "    ---------------------------------------------------\n",
      "    EIGENVECTOR CENTRALITY\n",
      "    ---------------------------------------------------\n",
      "    \n",
      "    Visitor (Node) 83558448 has degree centrality of 0.07972367035713757. It has 570 contacts.\n",
      "        \n",
      "    Visitor (Node) 90636462 has degree centrality of 0.06664511522892339. It has 267 contacts.\n",
      "        \n",
      "    Visitor (Node) 77922457 has degree centrality of 0.06407320652187447. It has 294 contacts.\n",
      "        \n",
      "    Visitor (Node) 76218374 has degree centrality of 0.05986452559576941. It has 176 contacts.\n",
      "        \n",
      "    Visitor (Node) 80150715 has degree centrality of 0.05600805925147032. It has 415 contacts.\n",
      "        \n",
      "    ---------------------------------------------------\n",
      "    \n",
      "   \n",
      "    ---------------------------------------------------\n",
      "    Average Path Length : 4.317761956918583\n",
      "    Diameter            : 8\n",
      "    Effective Diameter  : (4.837962367113697, 4.837962367113697)\n",
      "    ---------------------------------------------------\n",
      "    \n",
      "   \n",
      "    ---------------------------------------------------\n",
      "    Innermost k-shell : 6\n",
      "    Number of nodes   : 4474\n",
      "    Number of edges   : 23489\n",
      "    ---------------------------------------------------\n",
      "    \n",
      "\n",
      "    ---------------------------------------------------\n",
      "    Clustering Coefficient : 0.0019207233147802345\n",
      "    ---------------------------------------------------\n",
      "    \n"
     ]
    }
   ],
   "source": [
    "G_ER = snap.GenRewire(G, 100, random)\n",
    "\n",
    "res_ER = get_general_characteristics(G_ER)\n",
    "print(res_ER)\n",
    "\n",
    "res_ER = get_degree_centrality(G_ER)\n",
    "print(res_ER)\n",
    "\n",
    "res_ER = get_closeness_centrality(G_ER)\n",
    "print(res_ER)\n",
    "\n",
    "res_ER = get_farness_centrality(G_ER)\n",
    "print(res_ER)\n",
    "\n",
    "res_ER = get_eigenvector_centrality(G_ER)\n",
    "print(res_ER)\n",
    "\n",
    "res_ER = get_path_length_diameter(G_ER)\n",
    "print(res_ER)\n",
    "\n",
    "res_ER = get_innermos_k_shell(G_ER)\n",
    "print(res_ER)\n",
    "\n",
    "res_ER = get_cluster_coeff(G_ER)\n",
    "print(res_ER)\n"
   ]
  },
  {
   "cell_type": "code",
   "execution_count": 76,
   "metadata": {},
   "outputs": [
    {
     "name": "stdout",
     "output_type": "stream",
     "text": [
      "Randomizing edges (10972, 44516)...\n",
      "  total 8903k switchings attempted, 37k skiped  [3.41s]\n"
     ]
    }
   ],
   "source": [
    "G_ER = snap.GenRewire(G, 100, random)\n",
    "\n",
    "degree_sequence = []\n",
    "for NI in G_ER.Nodes():\n",
    "    degree_sequence.append(NI.GetDeg())"
   ]
  },
  {
   "cell_type": "code",
   "execution_count": 77,
   "metadata": {},
   "outputs": [
    {
     "data": {
      "image/png": "[encoded data removed]",
      "text/plain": [
       "<Figure size 800x600 with 1 Axes>"
      ]
     },
     "metadata": {},
     "output_type": "display_data"
    }
   ],
   "source": [
    "# Count frequency of each degree\n",
    "degree_count = {}\n",
    "for degree in degree_sequence:\n",
    "    if degree not in degree_count:\n",
    "        degree_count[degree] = 1\n",
    "    else:\n",
    "        degree_count[degree] += 1\n",
    "\n",
    "# Prepare data for plotting (degree vs frequency)\n",
    "degrees = list(degree_count.keys())\n",
    "frequencies = list(degree_count.values())\n",
    "\n",
    "# Plot the degree distribution as points\n",
    "plt.figure(figsize=(8, 6))\n",
    "plt.scatter(degrees, frequencies, color='b', alpha=0.7)\n",
    "plt.title('Degree Distribution of User Interactions')\n",
    "plt.xlabel('Degree (Number of Interactions)')\n",
    "plt.ylabel('Frequency')\n",
    "plt.show()"
   ]
  },
  {
   "cell_type": "markdown",
   "metadata": {},
   "source": [
    "# Others"
   ]
  },
  {
   "cell_type": "code",
   "execution_count": null,
   "metadata": {},
   "outputs": [],
   "source": [
    "# ### Face-to-face contact distribution per day\n",
    "\n",
    "# df['date'] = df['contact_time'].dt.date\n",
    "\n",
    "# contact_counts = df.groupby('date').size()\n",
    "\n",
    "# plt.figure(dpi=150)\n",
    "# sns.barplot(contact_counts, color='skyblue')\n",
    "\n",
    "# plt.xlabel('Date')\n",
    "# plt.ylabel('Number of Face-to-Face Interactions Per Day')\n",
    "# plt.title('Interactions Per Day')\n",
    "\n",
    "# plt.xticks(rotation=-45)\n",
    "\n",
    "\n",
    "# plt.gca().xaxis.set_major_locator(mdates.DayLocator(interval=10)) \n",
    "\n",
    "# plt.tight_layout() \n",
    "# plt.show()\n"
   ]
  }
 ],
 "metadata": {
  "colab": {
   "authorship_tag": "ABX9TyN57So7ddgpfuJzVyPWzhZ0",
   "mount_file_id": "1C9ySCnEi3IhfjPCrSF-Vvu9rOIqYCZ-f",
   "provenance": []
  },
  "kernelspec": {
   "display_name": "Python 3",
   "language": "python",
   "name": "python3"
  },
  "language_info": {
   "codemirror_mode": {
    "name": "ipython",
    "version": 3
   },
   "file_extension": ".py",
   "mimetype": "text/x-python",
   "name": "python",
   "nbconvert_exporter": "python",
   "pygments_lexer": "ipython3",
   "version": "3.9.6"
  }
 },
 "nbformat": 4,
 "nbformat_minor": 0
}
